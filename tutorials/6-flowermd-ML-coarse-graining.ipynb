{
 "cells": [
  {
   "cell_type": "markdown",
   "id": "4a6081d0145fc389",
   "metadata": {},
   "source": "# Machine Learning Coarse Graining"
  },
  {
   "cell_type": "markdown",
   "id": "cc2b9b5cf453f5c1",
   "metadata": {},
   "source": ""
  },
  {
   "cell_type": "markdown",
   "id": "158f67b502f31887",
   "metadata": {},
   "source": "## Overview:"
  },
  {
   "cell_type": "markdown",
   "id": "8f62eb06512930c9",
   "metadata": {},
   "source": [
    "This tutorial demonstrates how to use a pre-trained machine learning model to predict forces in a coarse-grained system. We will use the flowerMD package to load a pre-trained pytorch model and apply it to system of spherical (isotropic) particles.\n",
    "This model uses neighbor lists to predict forces between particles in the system. The model is trained on a dataset of Lennard-Jones systems with 200 particles.\n",
    "\n",
    "We use a pre-trained pytorch neural network to determine the forces between particles based on the relative distance vector between each particle and its 40th nearest neighbors. This model was trained for 1000 epochs with a batch size of 128 and an Adam optimizer. The best model checkpoint is saved to a file, which we will load and apply to a simulation.\n",
    "\n",
    "The `load_isotropic_custom_force` function loads the pre-trained model and creates a custom force object that can be applied to a simulation. This custom force object is like a look-up function for the simulation, providing the net force on each particle at each time step."
   ]
  },
  {
   "cell_type": "code",
   "execution_count": 1,
   "id": "f3e6ffd2404dd725",
   "metadata": {
    "ExecuteTime": {
     "end_time": "2024-12-24T14:23:18.859148Z",
     "start_time": "2024-12-24T14:23:05.682182Z"
    }
   },
   "outputs": [],
   "source": [
    "from flowermd.modules.coarse_graining_ML.isotropic_coarse_graining import (\n",
    "    load_isotropic_custom_force,\n",
    "    LJNeighborModelConfig,\n",
    ")\n",
    "from flowermd import Simulation"
   ]
  },
  {
   "cell_type": "markdown",
   "id": "b75a0f45e7db509d",
   "metadata": {},
   "source": ""
  },
  {
   "cell_type": "markdown",
   "id": "2acf80f17ebf75c9",
   "metadata": {},
   "source": "The `load_isotropic_custom_force` function loads the pre-trained model and creates a custom force object that can be applied to a simulation. This custom force object is like a look-up function for the simulation, providing the net force on each particle at each time step."
  },
  {
   "cell_type": "code",
   "execution_count": 2,
   "id": "1b2fd9817d93b45e",
   "metadata": {
    "ExecuteTime": {
     "end_time": "2024-12-24T14:26:22.873852Z",
     "start_time": "2024-12-24T14:23:57.219142Z"
    }
   },
   "outputs": [
    {
     "name": "stderr",
     "output_type": "stream",
     "text": [
      "/Users/marjan/Documents/code-base/forks/marjan/flowerMD/flowermd/modules/coarse_graining_ML/isotropic_coarse_graining.py:113: FutureWarning: You are using `torch.load` with `weights_only=False` (the current default value), which uses the default pickle module implicitly. It is possible to construct malicious pickle data which will execute arbitrary code during unpickling (See https://github.com/pytorch/pytorch/blob/main/SECURITY.md#untrusted-models for more details). In a future release, the default value for `weights_only` will be flipped to `True`. This limits the functions that could be executed during unpickling. Arbitrary objects will no longer be allowed to be loaded via this mode unless they are explicitly allowlisted by the user via `torch.serialization.add_safe_globals`. We recommend you start setting `weights_only=True` for any use case where you don't have full control of the loaded file. Please open an issue on GitHub for any issues related to this experimental feature.\n",
      "  model.load_state_dict(torch.load(best_model_path, map_location=device)['model'])\n"
     ]
    },
    {
     "name": "stdout",
     "output_type": "stream",
     "text": [
      "Initializing simulation state from a GSD file.\n",
      "Step 4499 of 10000; TPS: 68.17; ETA: 1.3 minutes\n",
      "Step 9999 of 10000; TPS: 68.67; ETA: 0.0 minutes\n",
      "done\n"
     ]
    }
   ],
   "source": [
    "best_model_path = \"data/best_model_checkpoint.pth\"\n",
    "lj_system = \"data/LJ_system_N200.gsd\"\n",
    "model_config = LJNeighborModelConfig(\n",
    "    number_neighbors=40,\n",
    "    hidden_dim=128,\n",
    "    n_layers=3,\n",
    "    act_fn=\"Tanh\",\n",
    "    dropout=0.3,\n",
    "    batch_norm=False,\n",
    "    box_len=6,\n",
    "    prior_energy=True,\n",
    "    prior_energy_sigma=1,\n",
    "    prior_energy_n=12,\n",
    ")\n",
    "custom_force = load_isotropic_custom_force(\n",
    "    model_config, best_model_path=best_model_path\n",
    ")\n",
    "sim = Simulation(\n",
    "    initial_state=lj_system,\n",
    "    forcefield=[custom_force],\n",
    "    gsd_file_name=\"LJ_trajectory.gsd\",\n",
    "    log_file_name=\"LJ_log.txt\",\n",
    ")\n",
    "sim.run_NVT(temperature=3.0, duration=10000, tau_kt=0.1)\n",
    "sim.flush_writers()\n",
    "print(\"done\")"
   ]
  },
  {
   "cell_type": "code",
   "execution_count": null,
   "id": "92d20baf4823538a",
   "metadata": {},
   "outputs": [],
   "source": []
  }
 ],
 "metadata": {
  "kernelspec": {
   "display_name": "Python 3",
   "language": "python",
   "name": "python3"
  },
  "language_info": {
   "codemirror_mode": {
    "name": "ipython",
    "version": 2
   },
   "file_extension": ".py",
   "mimetype": "text/x-python",
   "name": "python",
   "nbconvert_exporter": "python",
   "pygments_lexer": "ipython2",
   "version": "2.7.6"
  }
 },
 "nbformat": 4,
 "nbformat_minor": 5
}
